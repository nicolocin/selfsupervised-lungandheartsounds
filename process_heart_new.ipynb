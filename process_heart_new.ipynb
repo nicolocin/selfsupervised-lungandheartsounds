{
 "cells": [
  {
   "cell_type": "code",
   "execution_count": 2,
   "id": "d3dcde24-4791-477a-9f61-c12e6f160071",
   "metadata": {},
   "outputs": [],
   "source": [
    "import os\n",
    "import soundfile as sf\n",
    "\n",
    "\n",
    "# Take wav files in processed_old, slice them to 8s\n",
    "# if audio duration shorter than 8s, pad them to 8s\n",
    "def slice_audio(read_dir, save_dir, file, slice_dur):\n",
    "    # Load the audio file\n",
    "    audio, samplerate = sf.read(os.path.join(read_dir, file))\n",
    "\n",
    "    # Determine the duration of the audio in seconds\n",
    "    duration = len(audio) / samplerate\n",
    "\n",
    "    # Process the audio file\n",
    "    if duration > slice_dur:\n",
    "        # Slice the audio to 8 seconds\n",
    "        audio = audio[:samplerate*8]\n",
    "    elif duration < slice_dur:\n",
    "        # Pad the audio to 8 seconds\n",
    "        padding = samplerate * (slice_dur - duration)\n",
    "        silent_audio = [0] * padding\n",
    "        audio = audio.tolist() + silent_audio\n",
    "\n",
    "    # Export the processed audio\n",
    "    sf.write(os.path.join(save_dir, file), audio, samplerate)\n",
    "\n"
   ]
  },
  {
   "cell_type": "code",
   "execution_count": 8,
   "id": "74ee3110-7f89-47d4-9f96-740b446bf95d",
   "metadata": {},
   "outputs": [],
   "source": [
    "# Iterate through all WAV files in a directory\n",
    "old_dir = \"heart/processed_old/Normal\"\n",
    "new_dir = \"heart/processed/Normal\"\n",
    "for filename in os.listdir(old_dir):\n",
    "    if filename.endswith(\".wav\"):\n",
    "        process_audio(old_dir, new_dir, filename)\n"
   ]
  },
  {
   "cell_type": "code",
   "execution_count": 9,
   "id": "55f4c559-77ed-471a-9ad5-482b5a82448d",
   "metadata": {},
   "outputs": [
    {
     "name": "stdout",
     "output_type": "stream",
     "text": [
      "/home/gpu-srv/PythonProject/pytorch-venv/nllo/selfsupervised-lungandheartsounds\n"
     ]
    }
   ],
   "source": [
    "! pwd"
   ]
  },
  {
   "cell_type": "code",
   "execution_count": 11,
   "id": "6d3be02d-9a2d-4ce0-96f2-89fae6e5916d",
   "metadata": {},
   "outputs": [],
   "source": [
    "! rm -r heart/processed/Abnormal"
   ]
  },
  {
   "cell_type": "code",
   "execution_count": null,
   "id": "3f97fb92-1e8c-49a2-9a06-095c35c5a764",
   "metadata": {},
   "outputs": [],
   "source": []
  }
 ],
 "metadata": {
  "kernelspec": {
   "display_name": "stanfordML",
   "language": "python",
   "name": "stanfordml"
  },
  "language_info": {
   "codemirror_mode": {
    "name": "ipython",
    "version": 3
   },
   "file_extension": ".py",
   "mimetype": "text/x-python",
   "name": "python",
   "nbconvert_exporter": "python",
   "pygments_lexer": "ipython3",
   "version": "3.9.17"
  }
 },
 "nbformat": 4,
 "nbformat_minor": 5
}
